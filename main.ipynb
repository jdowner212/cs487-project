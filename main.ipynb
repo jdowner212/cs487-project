{
 "cells": [
  {
   "cell_type": "code",
   "execution_count": 1,
   "id": "diagnostic-impact",
   "metadata": {},
   "outputs": [],
   "source": [
    "import tkinter as tk\n",
    "\n",
    "import login_window\n",
    "\n",
    "import db_manager as db"
   ]
  },
  {
   "cell_type": "code",
   "execution_count": 2,
   "id": "virtual-commissioner",
   "metadata": {},
   "outputs": [],
   "source": [
    "\"\"\"Create and maintains the window.\"\"\"\n",
    "root = tk.Tk()\n",
    "application = login_window.LoginWindow(root)\n",
    "application.initialize_login_window()\n",
    "root.mainloop()"
   ]
  },
  {
   "cell_type": "code",
   "execution_count": 3,
   "id": "excellent-average",
   "metadata": {},
   "outputs": [],
   "source": [
    "# # import the module sqlite3\n",
    "\n",
    "# import sqlite3\n",
    "\n",
    " \n",
    "\n",
    "# # Make a connection to the SQLite DB\n",
    "\n",
    "# dbCon = sqlite3.connect(\"dataa.db\")\n",
    "\n",
    " \n",
    "\n",
    "# Obtain a Cursor object to execute SQL statements\n",
    "\n",
    "# cur   = dbCon.cursor()\n",
    "\n",
    " \n",
    "\n",
    "# # # Add a new column to student table\n",
    "\n",
    "# addColumn = \"ALTER TABLE Customers DROP COLUMN cc INT NOT NULL DEFAULT (11112222333344445555)\"\n",
    "\n",
    "\n",
    "# cur.execute(addColumn)\n",
    "\n",
    " \n",
    "\n",
    "# # Add a new column to teacher table\n",
    "\n",
    "# addColumn = \"ALTER TABLE teacher ADD COLUMN Address varchar(32)\"\n",
    "\n",
    "# cur.execute(addColumn)\n",
    "\n",
    " \n",
    "\n",
    "# # Retrieve the SQL statment for the tables and check the schema\n",
    "\n",
    "# masterQuery = \"select * from sqlite_master\"\n",
    "\n",
    "# cur.execute(masterQuery)\n",
    "\n",
    "# tableList = cur.fetchall()\n",
    "\n",
    "# tableList\n",
    "\n",
    " \n",
    "\n",
    "# for table in tableList:\n",
    "\n",
    "#     print(\"Database Object Type: %s\"%(table[0]))\n",
    "\n",
    "#     print(\"Database Object Name: %s\"%(table[1]))\n",
    "\n",
    "#     print(\"Table Name: %s\"%(table[2]))\n",
    "\n",
    "#     print(\"Root page: %s\"%(table[3]))\n",
    "\n",
    "#     print(\"**SQL Statement**: %s\"%(table[4]))\n",
    "\n",
    " \n",
    "\n",
    "# # close the database connection\n",
    "\n",
    "# dbCon.close()"
   ]
  },
  {
   "cell_type": "code",
   "execution_count": 4,
   "id": "ancient-montreal",
   "metadata": {},
   "outputs": [],
   "source": [
    "# new_tab = (\"\"\"CREATE TABLE IF NOT EXISTS new_tab(id_customer INTEGER PRIMARY KEY AUTOINCREMENT NOT NULL,login TEXT NOT NULL, password TEXT NOT NULL, customer_name TEXT NOT NULL, phone TEXT DEFAULT (0) NOT NULL, email TEXT    NOT NULL, perm INT NOT NULL DEFAULT (0), cc INT NOT NULL DEFAULT (1111222233334444), exp_date TEXT NOT NULL, ccv INT NOT NULL DEFAULT (123))\"\"\")\n",
    "# cur.execute(new_tab)\n",
    "\n",
    "# cur.execute('DROP TABLE Customers')\n",
    "\n",
    "# cur.execute('ALTER TABLE new_tab RENAME TO Customers')\n",
    "\n",
    "# #cur.execute('COMMIT')\n",
    "\n",
    "# cur.execute('PRAGMA foreign_keys=on')"
   ]
  }
 ],
 "metadata": {
  "kernelspec": {
   "display_name": "Python 3",
   "language": "python",
   "name": "python3"
  },
  "language_info": {
   "codemirror_mode": {
    "name": "ipython",
    "version": 3
   },
   "file_extension": ".py",
   "mimetype": "text/x-python",
   "name": "python",
   "nbconvert_exporter": "python",
   "pygments_lexer": "ipython3",
   "version": "3.9.1"
  },
  "toc": {
   "base_numbering": 1,
   "nav_menu": {},
   "number_sections": true,
   "sideBar": true,
   "skip_h1_title": false,
   "title_cell": "Table of Contents",
   "title_sidebar": "Contents",
   "toc_cell": false,
   "toc_position": {},
   "toc_section_display": true,
   "toc_window_display": false
  }
 },
 "nbformat": 4,
 "nbformat_minor": 5
}
