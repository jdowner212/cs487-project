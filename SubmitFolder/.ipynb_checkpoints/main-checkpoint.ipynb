{
 "cells": [
  {
   "cell_type": "code",
   "execution_count": 1,
   "id": "diagnostic-impact",
   "metadata": {},
   "outputs": [],
   "source": [
    "import tkinter as tk\n",
    "\n",
    "import login_window"
   ]
  },
  {
   "cell_type": "code",
   "execution_count": 2,
   "id": "virtual-commissioner",
   "metadata": {},
   "outputs": [
    {
     "name": "stderr",
     "output_type": "stream",
     "text": [
      "Exception in Tkinter callback\n",
      "Traceback (most recent call last):\n",
      "  File \"/usr/local/Cellar/python@3.9/3.9.1_7/Frameworks/Python.framework/Versions/3.9/lib/python3.9/tkinter/__init__.py\", line 1884, in __call__\n",
      "    return self.func(*args)\n",
      "  File \"/Users/user/Desktop/cs487-project/SubmitFolder/customer_window.py\", line 255, in check_out\n",
      "    menu_payment  = tk.OptionMenu(self.frame_right, variable_payment,  *options_payment)\n",
      "  File \"/usr/local/Cellar/python@3.9/3.9.1_7/Frameworks/Python.framework/Versions/3.9/lib/python3.9/tkinter/__init__.py\", line 3958, in __init__\n",
      "    Widget.__init__(self, master, \"menubutton\", kw)\n",
      "  File \"/usr/local/Cellar/python@3.9/3.9.1_7/Frameworks/Python.framework/Versions/3.9/lib/python3.9/tkinter/__init__.py\", line 2568, in __init__\n",
      "    self.tk.call(\n",
      "_tkinter.TclError: bad window path name \".!frame8.!frame3\"\n",
      "Exception in Tkinter callback\n",
      "Traceback (most recent call last):\n",
      "  File \"/usr/local/Cellar/python@3.9/3.9.1_7/Frameworks/Python.framework/Versions/3.9/lib/python3.9/tkinter/__init__.py\", line 1884, in __call__\n",
      "    return self.func(*args)\n",
      "  File \"/Users/user/Desktop/cs487-project/SubmitFolder/customer_window.py\", line 143, in remove_from_cart\n",
      "    selected_item = table.selection()[0]\n",
      "IndexError: tuple index out of range\n",
      "Exception in Tkinter callback\n",
      "Traceback (most recent call last):\n",
      "  File \"/usr/local/Cellar/python@3.9/3.9.1_7/Frameworks/Python.framework/Versions/3.9/lib/python3.9/tkinter/__init__.py\", line 1884, in __call__\n",
      "    return self.func(*args)\n",
      "  File \"/Users/user/Desktop/cs487-project/SubmitFolder/customer_window.py\", line 202, in place_order\n",
      "    self.error_message(\"Product ID missing.\")\n",
      "  File \"/Users/user/Desktop/cs487-project/SubmitFolder/customer_window.py\", line 387, in error_message\n",
      "    self.error_label = tk.Label(self.function_frame2, text=name, bg=my_config.BACKGROUND,\n",
      "  File \"/usr/local/Cellar/python@3.9/3.9.1_7/Frameworks/Python.framework/Versions/3.9/lib/python3.9/tkinter/__init__.py\", line 3144, in __init__\n",
      "    Widget.__init__(self, master, 'label', cnf, kw)\n",
      "  File \"/usr/local/Cellar/python@3.9/3.9.1_7/Frameworks/Python.framework/Versions/3.9/lib/python3.9/tkinter/__init__.py\", line 2568, in __init__\n",
      "    self.tk.call(\n",
      "_tkinter.TclError: bad window path name \".!frame5\"\n",
      "Exception in Tkinter callback\n",
      "Traceback (most recent call last):\n",
      "  File \"/usr/local/Cellar/python@3.9/3.9.1_7/Frameworks/Python.framework/Versions/3.9/lib/python3.9/tkinter/__init__.py\", line 1884, in __call__\n",
      "    return self.func(*args)\n",
      "  File \"/Users/user/Desktop/cs487-project/SubmitFolder/customer_window.py\", line 346, in account_edit\n",
      "    AccountEdit(self.master)\n",
      "  File \"/Users/user/Desktop/cs487-project/SubmitFolder/customer_window.py\", line 466, in __init__\n",
      "    customer_info = db.return_customer(my_config.MY_ID)\n",
      "AttributeError: module 'db_manager' has no attribute 'return_customer'\n"
     ]
    }
   ],
   "source": [
    "\"\"\"Create and maintains the window.\"\"\"\n",
    "root = tk.Tk()\n",
    "application = login_window.LoginWindow(root)\n",
    "application.initialize_login_window()\n",
    "root.mainloop()"
   ]
  },
  {
   "cell_type": "code",
   "execution_count": null,
   "id": "listed-kitchen",
   "metadata": {},
   "outputs": [],
   "source": []
  }
 ],
 "metadata": {
  "kernelspec": {
   "display_name": "Python 3",
   "language": "python",
   "name": "python3"
  },
  "language_info": {
   "codemirror_mode": {
    "name": "ipython",
    "version": 3
   },
   "file_extension": ".py",
   "mimetype": "text/x-python",
   "name": "python",
   "nbconvert_exporter": "python",
   "pygments_lexer": "ipython3",
   "version": "3.9.1"
  },
  "toc": {
   "base_numbering": 1,
   "nav_menu": {},
   "number_sections": true,
   "sideBar": true,
   "skip_h1_title": false,
   "title_cell": "Table of Contents",
   "title_sidebar": "Contents",
   "toc_cell": false,
   "toc_position": {},
   "toc_section_display": true,
   "toc_window_display": false
  }
 },
 "nbformat": 4,
 "nbformat_minor": 5
}
