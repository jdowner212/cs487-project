{
 "cells": [
  {
   "cell_type": "code",
   "execution_count": 1,
   "id": "diagnostic-impact",
   "metadata": {},
   "outputs": [],
   "source": [
    "import tkinter as tk\n",
    "\n",
    "import login_window\n",
    "\n",
    "import db_manager as db"
   ]
  },
  {
   "cell_type": "code",
   "execution_count": 2,
   "id": "virtual-commissioner",
   "metadata": {},
   "outputs": [
    {
     "name": "stderr",
     "output_type": "stream",
     "text": [
      "Exception in Tkinter callback\n",
      "Traceback (most recent call last):\n",
      "  File \"/usr/local/Cellar/python@3.9/3.9.1_7/Frameworks/Python.framework/Versions/3.9/lib/python3.9/tkinter/__init__.py\", line 1884, in __call__\n",
      "    return self.func(*args)\n",
      "  File \"/Users/user/Desktop/tk3_copy/cs487-project/login_window.py\", line 93, in login\n",
      "    self.customer_app()\n",
      "  File \"/Users/user/Desktop/tk3_copy/cs487-project/login_window.py\", line 206, in customer_app\n",
      "    self.welcome_frmae.destroy()\n",
      "AttributeError: 'LoginWindow' object has no attribute 'welcome_frmae'\n",
      "Exception in Tkinter callback\n",
      "Traceback (most recent call last):\n",
      "  File \"/usr/local/Cellar/python@3.9/3.9.1_7/Frameworks/Python.framework/Versions/3.9/lib/python3.9/tkinter/__init__.py\", line 1884, in __call__\n",
      "    return self.func(*args)\n",
      "  File \"/Users/user/Desktop/tk3_copy/cs487-project/login_window.py\", line 93, in login\n",
      "    self.customer_app()\n",
      "  File \"/Users/user/Desktop/tk3_copy/cs487-project/login_window.py\", line 206, in customer_app\n",
      "    self.welcome_frmae.destroy()\n",
      "AttributeError: 'LoginWindow' object has no attribute 'welcome_frmae'\n",
      "Exception in Tkinter callback\n",
      "Traceback (most recent call last):\n",
      "  File \"/usr/local/Cellar/python@3.9/3.9.1_7/Frameworks/Python.framework/Versions/3.9/lib/python3.9/tkinter/__init__.py\", line 1884, in __call__\n",
      "    return self.func(*args)\n",
      "  File \"/Users/user/Desktop/tk3_copy/cs487-project/login_window.py\", line 93, in login\n",
      "    self.customer_app()\n",
      "  File \"/Users/user/Desktop/tk3_copy/cs487-project/login_window.py\", line 206, in customer_app\n",
      "    self.welcome_frmae.destroy()\n",
      "AttributeError: 'LoginWindow' object has no attribute 'welcome_frmae'\n",
      "Exception in Tkinter callback\n",
      "Traceback (most recent call last):\n",
      "  File \"/usr/local/Cellar/python@3.9/3.9.1_7/Frameworks/Python.framework/Versions/3.9/lib/python3.9/tkinter/__init__.py\", line 1884, in __call__\n",
      "    return self.func(*args)\n",
      "  File \"/Users/user/Desktop/tk3_copy/cs487-project/login_window.py\", line 93, in login\n",
      "    self.customer_app()\n",
      "  File \"/Users/user/Desktop/tk3_copy/cs487-project/login_window.py\", line 206, in customer_app\n",
      "    self.welcome_frmae.destroy()\n",
      "AttributeError: 'LoginWindow' object has no attribute 'welcome_frmae'\n"
     ]
    }
   ],
   "source": [
    "\"\"\"Create and maintains the window.\"\"\"\n",
    "root = tk.Tk()\n",
    "application = login_window.LoginWindow(root)\n",
    "application.initialize_login_window()\n",
    "root.mainloop()"
   ]
  },
  {
   "cell_type": "code",
   "execution_count": 28,
   "id": "excellent-average",
   "metadata": {},
   "outputs": [
    {
     "data": {
      "text/plain": [
       "[('table',\n",
       "  'sqlite_sequence',\n",
       "  'sqlite_sequence',\n",
       "  3,\n",
       "  'CREATE TABLE sqlite_sequence(name,seq)'),\n",
       " ('table',\n",
       "  'Products',\n",
       "  'Products',\n",
       "  5,\n",
       "  'CREATE TABLE Products (id_product INTEGER PRIMARY KEY AUTOINCREMENT NOT NULL, product_name TEXT NOT NULL, product_price DOUBLE NOT NULL, in_stock INTEGER NOT NULL, description text)'),\n",
       " ('table',\n",
       "  'Orders',\n",
       "  'Orders',\n",
       "  4,\n",
       "  'CREATE TABLE Orders (id_order INTEGER PRIMARY KEY AUTOINCREMENT NOT NULL, id_customer INTEGER NOT NULL, id_product INTEGER NOT NULL, quantity INTEGER NOT NULL, total_price DOUBLE NOT NULL, payment_status INTEGER NOT NULL DEFAULT (0), send_status INTEGER NOT NULL DEFAULT (0), order_date TEXT NOT NULL DEFAULT CURRENT_TIMESTAMP, location TEXT NOT NULL, FOREIGN KEY (id_customer) REFERENCES Customers (id_customer) ON DELETE CASCADE ON UPDATE CASCADE, FOREIGN KEY (id_product) REFERENCES Products (id_product) ON DELETE SET NULL ON UPDATE CASCADE)'),\n",
       " ('table',\n",
       "  'Customers',\n",
       "  'Customers',\n",
       "  2,\n",
       "  'CREATE TABLE \"Customers\"(id_customer INTEGER PRIMARY KEY AUTOINCREMENT NOT NULL,login TEXT NOT NULL, password TEXT NOT NULL, customer_name TEXT NOT NULL, phone TEXT DEFAULT (0) NOT NULL, email TEXT    NOT NULL, perm INT NOT NULL DEFAULT (0), cc INT NOT NULL DEFAULT (1111222233334444), exp_date TEXT NOT NULL, ccv INT NOT NULL DEFAULT (123))')]"
      ]
     },
     "execution_count": 28,
     "metadata": {},
     "output_type": "execute_result"
    }
   ],
   "source": [
    "# # import the module sqlite3\n",
    "\n",
    "# import sqlite3\n",
    "\n",
    " \n",
    "\n",
    "# # Make a connection to the SQLite DB\n",
    "\n",
    "# dbCon = sqlite3.connect(\"dataa.db\")\n",
    "\n",
    " \n",
    "\n",
    "# Obtain a Cursor object to execute SQL statements\n",
    "\n",
    "# cur   = dbCon.cursor()\n",
    "\n",
    " \n",
    "\n",
    "# # # Add a new column to student table\n",
    "\n",
    "# addColumn = \"ALTER TABLE Customers DROP COLUMN cc INT NOT NULL DEFAULT (11112222333344445555)\"\n",
    "\n",
    "\n",
    "# cur.execute(addColumn)\n",
    "\n",
    " \n",
    "\n",
    "# # Add a new column to teacher table\n",
    "\n",
    "# addColumn = \"ALTER TABLE teacher ADD COLUMN Address varchar(32)\"\n",
    "\n",
    "# cur.execute(addColumn)\n",
    "\n",
    " \n",
    "\n",
    "# # Retrieve the SQL statment for the tables and check the schema\n",
    "\n",
    "# masterQuery = \"select * from sqlite_master\"\n",
    "\n",
    "# cur.execute(masterQuery)\n",
    "\n",
    "# tableList = cur.fetchall()\n",
    "\n",
    "# tableList\n",
    "\n",
    " \n",
    "\n",
    "# for table in tableList:\n",
    "\n",
    "#     print(\"Database Object Type: %s\"%(table[0]))\n",
    "\n",
    "#     print(\"Database Object Name: %s\"%(table[1]))\n",
    "\n",
    "#     print(\"Table Name: %s\"%(table[2]))\n",
    "\n",
    "#     print(\"Root page: %s\"%(table[3]))\n",
    "\n",
    "#     print(\"**SQL Statement**: %s\"%(table[4]))\n",
    "\n",
    " \n",
    "\n",
    "# # close the database connection\n",
    "\n",
    "# dbCon.close()"
   ]
  },
  {
   "cell_type": "code",
   "execution_count": 14,
   "id": "governmental-punch",
   "metadata": {},
   "outputs": [
    {
     "ename": "OperationalError",
     "evalue": "near \"SHOW\": syntax error",
     "output_type": "error",
     "traceback": [
      "\u001b[0;31m---------------------------------------------------------------------------\u001b[0m",
      "\u001b[0;31mOperationalError\u001b[0m                          Traceback (most recent call last)",
      "\u001b[0;32m<ipython-input-14-6751c754f3d8>\u001b[0m in \u001b[0;36m<module>\u001b[0;34m\u001b[0m\n\u001b[0;32m----> 1\u001b[0;31m \u001b[0mcur\u001b[0m\u001b[0;34m.\u001b[0m\u001b[0mexecute\u001b[0m\u001b[0;34m(\u001b[0m\u001b[0;34m'SHOW COLUMNS from CUSTOMERS'\u001b[0m\u001b[0;34m)\u001b[0m\u001b[0;34m\u001b[0m\u001b[0;34m\u001b[0m\u001b[0m\n\u001b[0m",
      "\u001b[0;31mOperationalError\u001b[0m: near \"SHOW\": syntax error"
     ]
    }
   ],
   "source": [
    "cur.execute('SHOW COLUMNS from CUSTOMERS')"
   ]
  },
  {
   "cell_type": "code",
   "execution_count": 27,
   "id": "careful-dealing",
   "metadata": {},
   "outputs": [
    {
     "data": {
      "text/plain": [
       "<sqlite3.Cursor at 0x12137b260>"
      ]
     },
     "execution_count": 27,
     "metadata": {},
     "output_type": "execute_result"
    }
   ],
   "source": [
    "new_tab = (\"\"\"CREATE TABLE IF NOT EXISTS new_tab(id_customer INTEGER PRIMARY KEY AUTOINCREMENT NOT NULL,login TEXT NOT NULL, password TEXT NOT NULL, customer_name TEXT NOT NULL, phone TEXT DEFAULT (0) NOT NULL, email TEXT    NOT NULL, perm INT NOT NULL DEFAULT (0), cc INT NOT NULL DEFAULT (1111222233334444), exp_date TEXT NOT NULL, ccv INT NOT NULL DEFAULT (123))\"\"\")\n",
    "cur.execute(new_tab)\n",
    "\n",
    "cur.execute('DROP TABLE Customers')\n",
    "\n",
    "cur.execute('ALTER TABLE new_tab RENAME TO Customers')\n",
    "\n",
    "#cur.execute('COMMIT')\n",
    "\n",
    "cur.execute('PRAGMA foreign_keys=on')"
   ]
  },
  {
   "cell_type": "code",
   "execution_count": null,
   "id": "banner-november",
   "metadata": {},
   "outputs": [],
   "source": [
    "cur"
   ]
  }
 ],
 "metadata": {
  "kernelspec": {
   "display_name": "Python 3",
   "language": "python",
   "name": "python3"
  },
  "language_info": {
   "codemirror_mode": {
    "name": "ipython",
    "version": 3
   },
   "file_extension": ".py",
   "mimetype": "text/x-python",
   "name": "python",
   "nbconvert_exporter": "python",
   "pygments_lexer": "ipython3",
   "version": "3.9.1"
  },
  "toc": {
   "base_numbering": 1,
   "nav_menu": {},
   "number_sections": true,
   "sideBar": true,
   "skip_h1_title": false,
   "title_cell": "Table of Contents",
   "title_sidebar": "Contents",
   "toc_cell": false,
   "toc_position": {},
   "toc_section_display": true,
   "toc_window_display": false
  }
 },
 "nbformat": 4,
 "nbformat_minor": 5
}
